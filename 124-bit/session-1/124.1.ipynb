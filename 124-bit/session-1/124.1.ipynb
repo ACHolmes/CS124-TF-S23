{
 "cells": [
  {
   "attachments": {},
   "cell_type": "markdown",
   "metadata": {},
   "source": [
    "# CS124 and a bit, session 1: Graphs, DFS, SCCs, BFS, SSSP\n",
    "\n",
    "This is a workbook that you can (but don't have to) use for the problems!\n",
    "___"
   ]
  },
  {
   "attachments": {},
   "cell_type": "markdown",
   "metadata": {},
   "source": [
    "### Warmup exercise\n",
    "\n",
    "Convert an adjacency matrix of a graph to an adjacency list that represents the same graph"
   ]
  },
  {
   "cell_type": "code",
   "execution_count": null,
   "metadata": {},
   "outputs": [],
   "source": [
    "def matrix_to_list(matrix: list[list[int]]):\n",
    "    pass"
   ]
  },
  {
   "cell_type": "code",
   "execution_count": null,
   "metadata": {},
   "outputs": [],
   "source": [
    "# matrix_to_list testing - you can (and probably should) add your own tests!\n",
    "matrix_1 = [[0, 1, 1, 0],\n",
    "            [1, 0, 0, 0],\n",
    "            [0, 0, 0 ,0],\n",
    "            [1, 1, 0, 0]]\n",
    "assert(matrix_to_list(matrix_1) == [[1, 2], [0], [], [0, 1]])"
   ]
  },
  {
   "attachments": {},
   "cell_type": "markdown",
   "metadata": {},
   "source": [
    "___"
   ]
  },
  {
   "attachments": {},
   "cell_type": "markdown",
   "metadata": {},
   "source": [
    "### Exercise 1: DFS backedges\n",
    "\n",
    "Modify DFS to print all backedges in a graph. You may assume that the graph is connected"
   ]
  },
  {
   "cell_type": "code",
   "execution_count": 2,
   "metadata": {},
   "outputs": [],
   "source": [
    "def find_back_edges(edges: list[list[int]], source=0):\n",
    "    explored = set()\n",
    "    current_path = set([source])\n",
    "    def DFS(u): \n",
    "        explored.add(u)\n",
    "        for v in edges[u]:\n",
    "            if v in current_path:\n",
    "                print(u, v)\n",
    "            if not(v in explored):\n",
    "                current_path.add(v)\n",
    "                DFS(v)\n",
    "        current_path.remove(u)\n",
    "    DFS(source)"
   ]
  },
  {
   "cell_type": "code",
   "execution_count": 7,
   "metadata": {},
   "outputs": [
    {
     "name": "stdout",
     "output_type": "stream",
     "text": [
      "2 3\n",
      "2 1\n",
      "3 1\n"
     ]
    },
    {
     "data": {
      "text/plain": [
       "' My implementation prints:\\n2 3\\n2 1\\n3 1\\n'"
      ]
     },
     "execution_count": 7,
     "metadata": {},
     "output_type": "execute_result"
    }
   ],
   "source": [
    "# Since back edges depend on DFS implementations, no precise testing here, just printing your results,\n",
    "# you should check that these make sense.\n",
    "edges = [[1, 2], [3], [3, 1], [4, 1], [2]]\n",
    "find_back_edges(edges)\n",
    "\n",
    "''' My implementation prints:\n",
    "2 3\n",
    "2 1\n",
    "3 1\n",
    "'''"
   ]
  },
  {
   "attachments": {},
   "cell_type": "markdown",
   "metadata": {},
   "source": [
    "___"
   ]
  },
  {
   "attachments": {},
   "cell_type": "markdown",
   "metadata": {},
   "source": [
    "### Exercise 2: Number of islands\n",
    "\n"
   ]
  },
  {
   "cell_type": "code",
   "execution_count": 24,
   "metadata": {},
   "outputs": [],
   "source": [
    "def count_islands(grid: list[list[int]]):\n",
    "    height = len(grid)\n",
    "    width = len(grid[0])\n",
    "    \n",
    "    def DFS(y, x):\n",
    "        if grid[y][x] == 0:\n",
    "            return\n",
    "        grid[y][x] = 0\n",
    "        DFS(max(y - 1, 0), x)\n",
    "        DFS(min(y + 1, height - 1), x)\n",
    "        DFS(y, max(x - 1, 0))\n",
    "        DFS(y, min(x + 1, width - 1))\n",
    "\n",
    "    islands = 0\n",
    "    for i in range(len(grid)):\n",
    "        for j in range(len(grid[0])):\n",
    "            if grid[i][j] == 1:\n",
    "                DFS(i, j)\n",
    "                islands += 1\n",
    "    return islands"
   ]
  },
  {
   "cell_type": "code",
   "execution_count": 26,
   "metadata": {},
   "outputs": [
    {
     "name": "stdout",
     "output_type": "stream",
     "text": [
      "3\n",
      "3\n",
      "0\n"
     ]
    },
    {
     "ename": "AssertionError",
     "evalue": "",
     "output_type": "error",
     "traceback": [
      "\u001b[1;31m---------------------------------------------------------------------------\u001b[0m",
      "\u001b[1;31mAssertionError\u001b[0m                            Traceback (most recent call last)",
      "\u001b[1;32m~\\AppData\\Local\\Temp\\ipykernel_25328\\1331407075.py\u001b[0m in \u001b[0;36m<module>\u001b[1;34m\u001b[0m\n\u001b[0;32m      4\u001b[0m         [0, 0, 0, 1, 1]]\n\u001b[0;32m      5\u001b[0m \u001b[0mprint\u001b[0m\u001b[1;33m(\u001b[0m\u001b[0mcount_islands\u001b[0m\u001b[1;33m(\u001b[0m\u001b[0mgrid\u001b[0m\u001b[1;33m)\u001b[0m\u001b[1;33m)\u001b[0m\u001b[1;33m\u001b[0m\u001b[1;33m\u001b[0m\u001b[0m\n\u001b[1;32m----> 6\u001b[1;33m \u001b[1;32massert\u001b[0m\u001b[1;33m(\u001b[0m\u001b[0mcount_islands\u001b[0m\u001b[1;33m(\u001b[0m\u001b[0mgrid\u001b[0m\u001b[1;33m)\u001b[0m \u001b[1;33m==\u001b[0m \u001b[1;36m3\u001b[0m\u001b[1;33m)\u001b[0m\u001b[1;33m\u001b[0m\u001b[1;33m\u001b[0m\u001b[0m\n\u001b[0m",
      "\u001b[1;31mAssertionError\u001b[0m: "
     ]
    }
   ],
   "source": [
    "grid = [[1, 1, 0, 0, 0],\n",
    "        [1, 1, 0, 0, 0], \n",
    "        [0, 0, 1, 0, 0], \n",
    "        [0, 0, 0, 1, 1]]\n",
    "assert(count_islands(grid) == 3)\n"
   ]
  }
 ],
 "metadata": {
  "kernelspec": {
   "display_name": "Python 3",
   "language": "python",
   "name": "python3"
  },
  "language_info": {
   "codemirror_mode": {
    "name": "ipython",
    "version": 3
   },
   "file_extension": ".py",
   "mimetype": "text/x-python",
   "name": "python",
   "nbconvert_exporter": "python",
   "pygments_lexer": "ipython3",
   "version": "3.9.13"
  },
  "orig_nbformat": 4,
  "vscode": {
   "interpreter": {
    "hash": "e9e2dfdea474f589237343828e0cfe4ce9a8dc12134aada866ffc550a0c2a41c"
   }
  }
 },
 "nbformat": 4,
 "nbformat_minor": 2
}
