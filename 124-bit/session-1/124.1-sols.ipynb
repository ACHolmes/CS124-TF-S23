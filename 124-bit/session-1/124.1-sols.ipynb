{
 "cells": [
  {
   "attachments": {},
   "cell_type": "markdown",
   "metadata": {},
   "source": [
    "# CS124 and a bit, session 1: Graphs, DFS, SCCs, BFS, SSSP\n",
    "\n",
    "This is a workbook that you can (but don't have to) use for the problems!\n",
    "___"
   ]
  },
  {
   "attachments": {},
   "cell_type": "markdown",
   "metadata": {},
   "source": [
    "### Warmup exercise\n",
    "\n",
    "Convert an adjacency matrix of a graph to an adjacency list that represents the same graph"
   ]
  },
  {
   "cell_type": "code",
   "execution_count": 9,
   "metadata": {},
   "outputs": [],
   "source": [
    "def list_to_matrix(adj_list: list[list[int]]):\n",
    "    n = len(adj_list)\n",
    "    adj_matrix = [[0] * n for _ in adj_list]\n",
    "    for u in range(n):\n",
    "        for v in adj_list[u]:\n",
    "            adj_matrix[u][v] = 1\n",
    "    return adj_matrix\n",
    "\n",
    "def matrix_to_list(adj_matrix: list[list[int]]):\n",
    "    adj_list = [[] for _ in adj_matrix]\n",
    "    n = len(adj_matrix)\n",
    "    for u in range(n):\n",
    "        for v in range(n):\n",
    "            if adj_matrix[u][v]:\n",
    "                adj_list[u].append(v)\n",
    "    return adj_list\n"
   ]
  },
  {
   "cell_type": "code",
   "execution_count": 10,
   "metadata": {},
   "outputs": [],
   "source": [
    "# matrix_to_list testing - you can (and probably should) add your own tests!\n",
    "matrix_1 = [[0, 1, 1, 0],\n",
    "            [1, 0, 0, 0],\n",
    "            [0, 0, 0 ,0],\n",
    "            [1, 1, 0, 0]]\n",
    "list_1 =  [[1, 2], [0], [], [0, 1]]\n",
    "assert(list_to_matrix(list_1) == matrix_1)\n",
    "assert(matrix_to_list(matrix_1) == list_1)"
   ]
  },
  {
   "attachments": {},
   "cell_type": "markdown",
   "metadata": {},
   "source": [
    "___"
   ]
  },
  {
   "attachments": {},
   "cell_type": "markdown",
   "metadata": {},
   "source": [
    "### Exercise 1: DFS backedges\n",
    "\n",
    "Modify DFS to print all backedges in a graph. You may assume that the graph is connected"
   ]
  },
  {
   "cell_type": "code",
   "execution_count": 2,
   "metadata": {},
   "outputs": [],
   "source": [
    "def find_back_edges(edges: list[list[int]], source=0):\n",
    "    explored = set()\n",
    "    current_path = set([source])\n",
    "    def DFS(u): \n",
    "        explored.add(u)\n",
    "        for v in edges[u]:\n",
    "            if v in current_path:\n",
    "                print(u, v)\n",
    "            if not(v in explored):\n",
    "                current_path.add(v)\n",
    "                DFS(v)\n",
    "        current_path.remove(u)\n",
    "    DFS(source)"
   ]
  },
  {
   "cell_type": "code",
   "execution_count": 7,
   "metadata": {},
   "outputs": [
    {
     "name": "stdout",
     "output_type": "stream",
     "text": [
      "2 3\n",
      "2 1\n",
      "3 1\n"
     ]
    },
    {
     "data": {
      "text/plain": [
       "' My implementation prints:\\n2 3\\n2 1\\n3 1\\n'"
      ]
     },
     "execution_count": 7,
     "metadata": {},
     "output_type": "execute_result"
    }
   ],
   "source": [
    "# Since back edges depend on DFS implementations, no precise testing here, just printing your results,\n",
    "# you should check that these make sense.\n",
    "edges = [[1, 2], [3], [3, 1], [4, 1], [2]]\n",
    "find_back_edges(edges)\n",
    "\n",
    "''' My implementation prints:\n",
    "2 3\n",
    "2 1\n",
    "3 1\n",
    "'''"
   ]
  },
  {
   "attachments": {},
   "cell_type": "markdown",
   "metadata": {},
   "source": [
    "___"
   ]
  },
  {
   "attachments": {},
   "cell_type": "markdown",
   "metadata": {},
   "source": [
    "### Exercise 2: Number of islands\n",
    "\n"
   ]
  },
  {
   "cell_type": "code",
   "execution_count": 2,
   "metadata": {},
   "outputs": [],
   "source": [
    "def count_islands(grid: list[list[int]]):\n",
    "    height = len(grid)\n",
    "    width = len(grid[0])\n",
    "    \n",
    "    def DFS(y, x):\n",
    "        if grid[y][x] == 0:\n",
    "            return\n",
    "        grid[y][x] = 0\n",
    "        DFS(max(y - 1, 0), x)\n",
    "        DFS(min(y + 1, height - 1), x)\n",
    "        DFS(y, max(x - 1, 0))\n",
    "        DFS(y, min(x + 1, width - 1))\n",
    "\n",
    "    islands = 0\n",
    "    for i in range(len(grid)):\n",
    "        for j in range(len(grid[0])):\n",
    "            if grid[i][j] == 1:\n",
    "                DFS(i, j)\n",
    "                islands += 1\n",
    "    return islands"
   ]
  },
  {
   "cell_type": "code",
   "execution_count": 3,
   "metadata": {},
   "outputs": [],
   "source": [
    "# Andrew's provided tests. Not exhausitve.\n",
    "grid = [[1, 1, 0, 0, 0],\n",
    "        [1, 1, 0, 0, 0], \n",
    "        [0, 0, 1, 0, 0], \n",
    "        [0, 0, 0, 1, 1]]\n",
    "assert(count_islands(grid) == 3)\n"
   ]
  },
  {
   "attachments": {},
   "cell_type": "markdown",
   "metadata": {},
   "source": [
    "___"
   ]
  },
  {
   "attachments": {},
   "cell_type": "markdown",
   "metadata": {},
   "source": [
    "### Lowest Common Ancestor of a Binary Tree"
   ]
  },
  {
   "attachments": {},
   "cell_type": "markdown",
   "metadata": {},
   "source": []
  },
  {
   "cell_type": "code",
   "execution_count": 1,
   "metadata": {},
   "outputs": [],
   "source": [
    "class Node:\n",
    "    def __init__(self, x):\n",
    "        self.val = x\n",
    "        self.left = None\n",
    "        self.right = None\n",
    "\n",
    "def lowest_common_ancestor(root: Node, a: int, b: int):\n",
    "    if not(root):\n",
    "        raise ValueError\n",
    "    LCA = root.val\n",
    "    def DFS(node):\n",
    "        nonlocal LCA\n",
    "        current = node.val == a or node.val == b\n",
    "        if not(node.left or node.right):\n",
    "            return current\n",
    "        left = DFS(node.left)\n",
    "        right = DFS(node.right)\n",
    "        if left + current + right == 2:\n",
    "            LCA = node.val\n",
    "        return left or current or right\n",
    "    DFS(root)\n",
    "    return LCA\n",
    "        \n"
   ]
  },
  {
   "cell_type": "code",
   "execution_count": 2,
   "metadata": {},
   "outputs": [],
   "source": [
    "# Andrew's provided LCA tests. Not exhaustive.\n",
    "nodes = []\n",
    "for i in range(0, 9):\n",
    "    nodes.append(Node(i))\n",
    "nodes[1].left = nodes[0]\n",
    "nodes[1].right = nodes[8]\n",
    "nodes[3].right = nodes[1]\n",
    "nodes[3].left = nodes[5]\n",
    "nodes[5].left = nodes[6]\n",
    "nodes[5].right = nodes[2]\n",
    "nodes[2].left = nodes[7]\n",
    "nodes[2].right = nodes[4]\n",
    "\n",
    "assert(lowest_common_ancestor(nodes[3], 5, 4) == 5)\n",
    "assert(lowest_common_ancestor(nodes[3], 5, 1) == 3)\n"
   ]
  },
  {
   "attachments": {},
   "cell_type": "markdown",
   "metadata": {},
   "source": [
    "___"
   ]
  },
  {
   "attachments": {},
   "cell_type": "markdown",
   "metadata": {},
   "source": [
    "### Finding SCCs"
   ]
  },
  {
   "cell_type": "code",
   "execution_count": 50,
   "metadata": {},
   "outputs": [],
   "source": [
    "def find_SCCS(verts: list[int], edges: list[list[int]], source=0):\n",
    "    edges_reversed = [[] for v in verts]\n",
    "    for u in verts:\n",
    "        for v in edges[u]:\n",
    "            edges_reversed[v].append(u)\n",
    "    \n",
    "    def DFS(verts, edges, print_SCC=False):\n",
    "        explored = set()\n",
    "        postorder_list = []\n",
    "        def search(u):\n",
    "            explored.add(u)\n",
    "            for v in edges[u]:\n",
    "                if not(v in explored):\n",
    "                    search(v)\n",
    "            postorder_list.append(u)\n",
    "        for v in verts:\n",
    "            if not(v in explored):\n",
    "                search(v)\n",
    "                if print_SCC:\n",
    "                    print(f'New SCC: {postorder_list}')\n",
    "                    postorder_list = []\n",
    "        return postorder_list\n",
    "\n",
    "    postorder_list = DFS(verts, edges_reversed)\n",
    "    print(postorder_list)\n",
    "    DFS(postorder_list[::-1], edges, print_SCC=True)"
   ]
  },
  {
   "cell_type": "code",
   "execution_count": 51,
   "metadata": {},
   "outputs": [
    {
     "name": "stdout",
     "output_type": "stream",
     "text": [
      "[0, 3, 4, 2, 1]\n",
      "New SCC: [2, 4, 3, 1]\n",
      "New SCC: [0]\n"
     ]
    }
   ],
   "source": [
    "edges = [[1, 2], [3], [3, 1], [4, 1], [2]]\n",
    "verts = [0, 1, 2, 3, 4]\n",
    "find_SCCS(verts, edges, source=1)"
   ]
  },
  {
   "attachments": {},
   "cell_type": "markdown",
   "metadata": {},
   "source": [
    "___"
   ]
  },
  {
   "attachments": {},
   "cell_type": "markdown",
   "metadata": {},
   "source": [
    "### BFS"
   ]
  },
  {
   "cell_type": "code",
   "execution_count": 46,
   "metadata": {},
   "outputs": [],
   "source": [
    "from queue import PriorityQueue\n",
    "def BFS(verts: list[int], edges: list[list[int]], source=0):\n",
    "    explored = set([source])\n",
    "    q = [source]\n",
    "    dist = [0 for _ in verts]\n",
    "    while q:\n",
    "        u = q.pop(0)\n",
    "        for v in edges[u]:\n",
    "            if not(v in explored):\n",
    "                q.append(v)\n",
    "                dist[v] = dist[u] + 1\n",
    "                explored.add(v)\n",
    "    return dist"
   ]
  },
  {
   "cell_type": "code",
   "execution_count": 47,
   "metadata": {},
   "outputs": [
    {
     "name": "stdout",
     "output_type": "stream",
     "text": [
      "[0, 1, 1, 2, 3]\n"
     ]
    }
   ],
   "source": [
    "edges = [[1, 2], [3], [3, 1], [4, 1], [2]]\n",
    "verts = [0, 1, 2, 3, 4]\n",
    "print(BFS(verts, edges))"
   ]
  },
  {
   "attachments": {},
   "cell_type": "markdown",
   "metadata": {},
   "source": [
    "### Dijkstra's\n"
   ]
  },
  {
   "cell_type": "code",
   "execution_count": null,
   "metadata": {},
   "outputs": [],
   "source": [
    "# To be implemented\n",
    "from queue import PriorityQueue\n",
    "def BFS(verts: list[int], edges: list[list[int]], source=0):\n",
    "    explored = set()\n",
    "    q = PriorityQueue()    \n",
    "    pass"
   ]
  }
 ],
 "metadata": {
  "kernelspec": {
   "display_name": "Python 3",
   "language": "python",
   "name": "python3"
  },
  "language_info": {
   "codemirror_mode": {
    "name": "ipython",
    "version": 3
   },
   "file_extension": ".py",
   "mimetype": "text/x-python",
   "name": "python",
   "nbconvert_exporter": "python",
   "pygments_lexer": "ipython3",
   "version": "3.9.13"
  },
  "orig_nbformat": 4,
  "vscode": {
   "interpreter": {
    "hash": "e9e2dfdea474f589237343828e0cfe4ce9a8dc12134aada866ffc550a0c2a41c"
   }
  }
 },
 "nbformat": 4,
 "nbformat_minor": 2
}
