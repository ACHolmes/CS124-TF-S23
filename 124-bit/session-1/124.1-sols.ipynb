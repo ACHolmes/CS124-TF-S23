{
 "cells": [
  {
   "attachments": {},
   "cell_type": "markdown",
   "metadata": {},
   "source": [
    "# CS124 and a bit, session 1: Graphs, DFS, SCCs, BFS, SSSP\n",
    "\n",
    "This is a workbook that you can (but don't have to) use for the problems! They arae in the same order as the PDF, and generally have some basic test(s) set up for you.\n",
    "___"
   ]
  },
  {
   "attachments": {},
   "cell_type": "markdown",
   "metadata": {},
   "source": [
    "### Problem 1: Switching graph representations\n",
    "\n",
    "Here you need to implement two functions to convert between the adjacency matrix and adjacency list representations of a graph. You may assume for each that the input is a valid adjacency list/matrix (e.g. you do not need to check the matrix is square)."
   ]
  },
  {
   "cell_type": "code",
   "execution_count": 9,
   "metadata": {},
   "outputs": [],
   "source": [
    "def list_to_matrix(adj_list: list[list[int]]):\n",
    "    n = len(adj_list)\n",
    "    adj_matrix = [[0] * n for _ in adj_list]\n",
    "    for u in range(n):\n",
    "        for v in adj_list[u]:\n",
    "            adj_matrix[u][v] = 1\n",
    "    return adj_matrix\n",
    "\n",
    "def matrix_to_list(adj_matrix: list[list[int]]):\n",
    "    adj_list = [[] for _ in adj_matrix]\n",
    "    n = len(adj_matrix)\n",
    "    for u in range(n):\n",
    "        for v in range(n):\n",
    "            if adj_matrix[u][v]:\n",
    "                adj_list[u].append(v)\n",
    "    return adj_list\n"
   ]
  },
  {
   "cell_type": "code",
   "execution_count": 10,
   "metadata": {},
   "outputs": [],
   "source": [
    "# matrix_to_list testing - you can (and probably should) add your own tests!\n",
    "matrix_1 = [[0, 1, 1, 0],\n",
    "            [1, 0, 0, 0],\n",
    "            [0, 0, 0 ,0],\n",
    "            [1, 1, 0, 0]]\n",
    "list_1 =  [[1, 2], [0], [], [0, 1]]\n",
    "\n",
    "# TESTS -> UNCOMMENT BELOW TO TEST FUNCTIONS. ADD YOUR OWN TESTS :)\n",
    "\n",
    "# assert(list_to_matrix(list_1) == matrix_1)\n",
    "# assert(matrix_to_list(matrix_1) == list_1)"
   ]
  },
  {
   "attachments": {},
   "cell_type": "markdown",
   "metadata": {},
   "source": [
    "___"
   ]
  },
  {
   "attachments": {},
   "cell_type": "markdown",
   "metadata": {},
   "source": [
    "### Problem 2: DFS backedges\n",
    "\n",
    "For this problem you need to write, and then use or modify DFS to print all backedges in a graph. To start with, you may assume that all vertices are reachable from vertex 0 if you'd like. There are multiple ways of implementing this - it is up to you how you choose to do so. It may be useful to you to write in the tex file I provided how you chose to do it, and any other methods you thought of that you could use to implement this and their tradeoffs, but that is optional (as is everything in this entire project in fact, but this one is even more optional than the others)"
   ]
  },
  {
   "cell_type": "code",
   "execution_count": 9,
   "metadata": {},
   "outputs": [],
   "source": [
    "def find_back_edges(verts: list[int], edges: list[list[int]]):\n",
    "    explored = set()\n",
    "    current_path = set()\n",
    "    def DFS(u): \n",
    "        explored.add(u)\n",
    "        for v in edges[u]:\n",
    "            if v in current_path:\n",
    "                print(u, v)\n",
    "            if not(v in explored):\n",
    "                current_path.add(v)\n",
    "                DFS(v)\n",
    "        current_path.remove(u)\n",
    "    for v in verts:\n",
    "        if not(v in explored):\n",
    "            current_path.add(v)\n",
    "            DFS(v)"
   ]
  },
  {
   "cell_type": "code",
   "execution_count": 16,
   "metadata": {},
   "outputs": [
    {
     "name": "stdout",
     "output_type": "stream",
     "text": [
      "First test\n",
      "2 3\n",
      "2 1\n",
      "3 1\n",
      "\n",
      "Second test\n",
      "3 4\n",
      "1 3\n"
     ]
    },
    {
     "data": {
      "text/plain": [
       "' My implementation prints:\\n3 4\\n1 3\\n'"
      ]
     },
     "execution_count": 16,
     "metadata": {},
     "output_type": "execute_result"
    }
   ],
   "source": [
    "# Since back edges depend on DFS implementations, no precise testing here, just printing your results,\n",
    "# you should check that these make sense.\n",
    "verts = [0, 1, 2, 3, 4]\n",
    "edges = [[1, 2], [3], [3, 1], [4, 1], [2]]\n",
    "print(\"First test\")\n",
    "find_back_edges(verts, edges)\n",
    "\n",
    "''' My implementation prints:\n",
    "2 3\n",
    "2 1\n",
    "3 1\n",
    "'''\n",
    "print(\"\\nSecond test\")\n",
    "find_back_edges(verts[::-1], edges)\n",
    "\n",
    "''' My implementation prints:\n",
    "3 4\n",
    "1 3\n",
    "'''\n"
   ]
  },
  {
   "attachments": {},
   "cell_type": "markdown",
   "metadata": {},
   "source": [
    "___"
   ]
  },
  {
   "attachments": {},
   "cell_type": "markdown",
   "metadata": {},
   "source": [
    "### Problem 3: Number of islands\n",
    "\n",
    "For this problem you are given a m x n integer grid, where each position is either a 0 or a 1. 1 represents a piece of land, while 0 represents water. Your job is to write a function to determine the number of islands in the grid, where an island is formed of adjacent pieces of land (adjacent horizontally or vertically, not diagonally)"
   ]
  },
  {
   "cell_type": "code",
   "execution_count": 4,
   "metadata": {},
   "outputs": [],
   "source": [
    "def count_islands(grid: list[list[int]]):\n",
    "    height = len(grid)\n",
    "    width = len(grid[0])\n",
    "    \n",
    "    def DFS(y, x):\n",
    "        if grid[y][x] == 0:\n",
    "            return\n",
    "        grid[y][x] = 0\n",
    "        DFS(max(y - 1, 0), x)\n",
    "        DFS(min(y + 1, height - 1), x)\n",
    "        DFS(y, max(x - 1, 0))\n",
    "        DFS(y, min(x + 1, width - 1))\n",
    "\n",
    "    islands = 0\n",
    "    for i in range(len(grid)):\n",
    "        for j in range(len(grid[0])):\n",
    "            if grid[i][j] == 1:\n",
    "                DFS(i, j)\n",
    "                islands += 1\n",
    "    return islands"
   ]
  },
  {
   "cell_type": "code",
   "execution_count": 8,
   "metadata": {},
   "outputs": [],
   "source": [
    "import numpy as np\n",
    "# Andrew's provided tests. Not exhausitve.\n",
    "grid_1 = [[1, 1, 0, 0, 0],\n",
    "        [1, 1, 0, 0, 0], \n",
    "        [0, 0, 1, 0, 0], \n",
    "        [0, 0, 0, 1, 1]]\n",
    "assert(count_islands(grid_1) == 3)\n",
    "\n",
    "grid_2 = [[abs(round(np.sin(x + y))) for x in range(6)] for y in range(6)]\n",
    "assert(count_islands(grid_2) == 4)"
   ]
  },
  {
   "attachments": {},
   "cell_type": "markdown",
   "metadata": {},
   "source": [
    "___"
   ]
  },
  {
   "attachments": {},
   "cell_type": "markdown",
   "metadata": {},
   "source": [
    "### Problem 4: Lowest Common Ancestor of a Binary Tree\n",
    "\n",
    "In this problem you need to find the lowest common ancestor of two values in a binary tree. You may assume that the two values are in the tree. To be a common ancestor of the two values, there must exist a path from the vertex to both vertices OR the vertex must be one of the target vertices, with a path to the other vertex. To be the lowest common ancestor, it must be a common ancestor of the two vertices that minimizes the sum of the path distances from the vertex to the two vertices."
   ]
  },
  {
   "cell_type": "code",
   "execution_count": 1,
   "metadata": {},
   "outputs": [],
   "source": [
    "class Node:\n",
    "    def __init__(self, x):\n",
    "        self.val = x\n",
    "        self.left = None\n",
    "        self.right = None\n",
    "\n",
    "def lowest_common_ancestor(root: Node, a: int, b: int):\n",
    "    if not(root):\n",
    "        raise ValueError\n",
    "    LCA = root.val\n",
    "    def DFS(node):\n",
    "        nonlocal LCA\n",
    "        current = node.val == a or node.val == b\n",
    "        if not(node.left or node.right):\n",
    "            return current\n",
    "        left = DFS(node.left)\n",
    "        right = DFS(node.right)\n",
    "        if left + current + right == 2:\n",
    "            LCA = node.val\n",
    "        return left or current or right\n",
    "    DFS(root)\n",
    "    return LCA\n"
   ]
  },
  {
   "cell_type": "code",
   "execution_count": 2,
   "metadata": {},
   "outputs": [],
   "source": [
    "# Andrew's provided LCA tests. Not exhaustive.\n",
    "nodes = []\n",
    "for i in range(0, 9):\n",
    "    nodes.append(Node(i))\n",
    "nodes[1].left = nodes[0]\n",
    "nodes[1].right = nodes[8]\n",
    "nodes[3].right = nodes[1]\n",
    "nodes[3].left = nodes[5]\n",
    "nodes[5].left = nodes[6]\n",
    "nodes[5].right = nodes[2]\n",
    "nodes[2].left = nodes[7]\n",
    "nodes[2].right = nodes[4]\n",
    "\n",
    "assert(lowest_common_ancestor(nodes[3], 5, 4) == 5)\n",
    "assert(lowest_common_ancestor(nodes[3], 5, 1) == 3)\n"
   ]
  },
  {
   "attachments": {},
   "cell_type": "markdown",
   "metadata": {},
   "source": [
    "___"
   ]
  },
  {
   "attachments": {},
   "cell_type": "markdown",
   "metadata": {},
   "source": [
    "### Problem 5: Finding SCCs\n",
    "\n",
    "For this problem you need to implement an SCC-finding algorithm (namely, Kosaraju's from class) to find the SCCs in a graph."
   ]
  },
  {
   "cell_type": "code",
   "execution_count": 17,
   "metadata": {},
   "outputs": [],
   "source": [
    "def find_SCCS(verts: list[int], edges: list[list[int]]):\n",
    "    edges_reversed = [[] for v in verts]\n",
    "    for u in verts:\n",
    "        for v in edges[u]:\n",
    "            edges_reversed[v].append(u)\n",
    "    \n",
    "    def DFS(verts, edges, print_SCC=False):\n",
    "        explored = set()\n",
    "        postorder_list = []\n",
    "        def search(u):\n",
    "            explored.add(u)\n",
    "            for v in edges[u]:\n",
    "                if not(v in explored):\n",
    "                    search(v)\n",
    "            postorder_list.append(u)\n",
    "        for v in verts:\n",
    "            if not(v in explored):\n",
    "                search(v)\n",
    "                if print_SCC:\n",
    "                    print(f'New SCC: {postorder_list}')\n",
    "                    postorder_list = []\n",
    "        return postorder_list\n",
    "\n",
    "    postorder_list = DFS(verts, edges_reversed)\n",
    "    print(postorder_list)\n",
    "    DFS(postorder_list[::-1], edges, print_SCC=True)"
   ]
  },
  {
   "cell_type": "code",
   "execution_count": 22,
   "metadata": {},
   "outputs": [
    {
     "name": "stdout",
     "output_type": "stream",
     "text": [
      "[0, 3, 4, 2, 1]\n",
      "New SCC: [2, 4, 3, 1]\n",
      "New SCC: [0]\n",
      "[0, 2, 1, 3, 4]\n",
      "New SCC: [1, 3, 2, 4]\n",
      "New SCC: [0]\n"
     ]
    }
   ],
   "source": [
    "edges = [[1, 2], [3], [3, 1], [4, 1], [2]]\n",
    "verts = [0, 1, 2, 3, 4]\n",
    "find_SCCS(verts, edges)\n",
    "find_SCCS(verts[::-1], edges)"
   ]
  },
  {
   "attachments": {},
   "cell_type": "markdown",
   "metadata": {},
   "source": [
    "___"
   ]
  },
  {
   "attachments": {},
   "cell_type": "markdown",
   "metadata": {},
   "source": [
    "### Problem 6: BFS\n",
    "\n",
    "For this problem you must implement BFS to find the depth (or path distance, assuming all edges have length 1) to all vertices reachable from the source vertex. You should implement a queue yourself."
   ]
  },
  {
   "cell_type": "code",
   "execution_count": 1,
   "metadata": {},
   "outputs": [],
   "source": [
    "def BFS(verts: list[int], edges: list[list[int]], source=0):\n",
    "    explored = set([source])\n",
    "    q = [source]\n",
    "    dist = [0 for _ in verts]\n",
    "    while q:\n",
    "        u = q.pop(0)\n",
    "        for v in edges[u]:\n",
    "            if not(v in explored):\n",
    "                q.append(v)\n",
    "                dist[v] = dist[u] + 1\n",
    "                explored.add(v)\n",
    "    return dist"
   ]
  },
  {
   "cell_type": "code",
   "execution_count": 2,
   "metadata": {},
   "outputs": [
    {
     "name": "stdout",
     "output_type": "stream",
     "text": [
      "[0, 1, 1, 2, 3]\n"
     ]
    }
   ],
   "source": [
    "edges = [[1, 2], [3], [3, 1], [4, 1], [2]]\n",
    "verts = [0, 1, 2, 3, 4]\n",
    "print(BFS(verts, edges))"
   ]
  },
  {
   "attachments": {},
   "cell_type": "markdown",
   "metadata": {},
   "source": [
    "### Problem 7: Dijkstra's\n"
   ]
  },
  {
   "cell_type": "code",
   "execution_count": null,
   "metadata": {},
   "outputs": [],
   "source": [
    "# To come"
   ]
  }
 ],
 "metadata": {
  "kernelspec": {
   "display_name": "Python 3",
   "language": "python",
   "name": "python3"
  },
  "language_info": {
   "codemirror_mode": {
    "name": "ipython",
    "version": 3
   },
   "file_extension": ".py",
   "mimetype": "text/x-python",
   "name": "python",
   "nbconvert_exporter": "python",
   "pygments_lexer": "ipython3",
   "version": "3.9.13"
  },
  "orig_nbformat": 4,
  "vscode": {
   "interpreter": {
    "hash": "e9e2dfdea474f589237343828e0cfe4ce9a8dc12134aada866ffc550a0c2a41c"
   }
  }
 },
 "nbformat": 4,
 "nbformat_minor": 2
}
